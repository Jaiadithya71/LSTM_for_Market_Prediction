{
 "cells": [
  {
   "cell_type": "code",
   "execution_count": 1,
   "metadata": {
    "id": "hjsQhK5Ix0yh"
   },
   "outputs": [],
   "source": [
    "import requests\n",
    "import pandas as pd\n",
    "from datetime import datetime, timedelta\n",
    "import time"
   ]
  },
  {
   "cell_type": "code",
   "execution_count": 6,
   "metadata": {
    "id": "ymtGNikUx1tO"
   },
   "outputs": [],
   "source": [
    "api_key = \"CVBPZMTFG1RCRXHO\"\n",
    "\n",
    "# List of top 10 NASDAQ stocks\n",
    "nasdaq_stocks = [\"AMZN\"]   #[\"AAPL\", \"MSFT\", \"AMZN\", \"GOOGL\", \"FB\", \"TSLA\", \"NVDA\", \"PYPL\", \"INTC\", \"CSCO\"]\n",
    "\n",
    "# Base URL for Alpha Vantage API\n",
    "base_url = \"https://www.alphavantage.co/query\""
   ]
  },
  {
   "cell_type": "code",
   "execution_count": 7,
   "metadata": {
    "id": "fNcbJNJCx3RW"
   },
   "outputs": [],
   "source": [
    "def fetch_month_data(symbol, year, month):\n",
    "    print(f\"Fetching data for {symbol} - {year}-{month:02d}...\")\n",
    "\n",
    "    # Define API parameters\n",
    "    params = {\n",
    "    \"function\": \"TIME_SERIES_INTRADAY\",\n",
    "    \"symbol\": symbol,\n",
    "    \"interval\": \"15min\",\n",
    "    \"apikey\": api_key,\n",
    "    \"outputsize\": \"full\",  # Fetch full data\n",
    "    \"month\": f\"{year}-{month:02d}\"  # Include month parameter\n",
    "    }\n",
    "\n",
    "\n",
    "    # Send API request\n",
    "    response = requests.get(base_url, params=params)\n",
    "\n",
    "    # Check response\n",
    "    if response.status_code == 200:\n",
    "        try:\n",
    "            # Parse JSON data returned by Alpha Vantage\n",
    "            data = response.json()\n",
    "\n",
    "            if \"Time Series (15min)\" in data:\n",
    "                time_series = data[\"Time Series (15min)\"]\n",
    "\n",
    "                # Convert to DataFrame\n",
    "                df = pd.DataFrame.from_dict(time_series, orient=\"index\")\n",
    "                df.columns = [\"Open\", \"High\", \"Low\", \"Close\", \"Volume\"]\n",
    "                df.index = pd.to_datetime(df.index)\n",
    "                df.sort_index(inplace=True)\n",
    "                df.reset_index(inplace=True)\n",
    "                df.rename(columns={\"index\": \"DateTime\"}, inplace=True)\n",
    "                df = df[[\"DateTime\", \"Open\", \"High\", \"Low\", \"Close\", \"Volume\"]]\n",
    "\n",
    "                print(f\"Fetched {len(df)} records for {symbol} - {year}-{month:02d}.\")\n",
    "                return df\n",
    "            else:\n",
    "                print(f\"No time series data found for {symbol} - {year}-{month:02d}.\")\n",
    "                return pd.DataFrame()\n",
    "        except Exception as e:\n",
    "            print(f\"Error parsing data for {symbol} - {year}-{month:02d}: {e}\")\n",
    "            return pd.DataFrame()\n",
    "    else:\n",
    "        print(f\"Failed to fetch data for {symbol} - {year}-{month:02d}. HTTP Status Code: {response.status_code}\")\n",
    "        return pd.DataFrame()\n"
   ]
  },
  {
   "cell_type": "code",
   "execution_count": 8,
   "metadata": {
    "id": "paG1McJIx45y"
   },
   "outputs": [],
   "source": [
    "def fetch_stock_data(symbol):\n",
    "    print(f\"Starting data fetch for {symbol}...\")\n",
    "\n",
    "    # Initialize an empty DataFrame to hold the data\n",
    "    all_data = pd.DataFrame()\n",
    "\n",
    "    # Define the start and end dates\n",
    "    start_year, start_month = 2022, 1\n",
    "    end_year, end_month = 2024, 12\n",
    "\n",
    "    # Iterate through months in the date range\n",
    "    year, month = start_year, start_month\n",
    "    while (year < end_year) or (year == end_year and month <= end_month):\n",
    "        # Fetch data for the current month\n",
    "        month_data = fetch_month_data(symbol, year, month)\n",
    "\n",
    "        # Add to the combined data\n",
    "        all_data = pd.concat([all_data, month_data], ignore_index=True)\n",
    "\n",
    "        # Move to the next month\n",
    "        month += 1\n",
    "        if month > 12:\n",
    "            month = 1\n",
    "            year += 1\n",
    "\n",
    "        # Stop if no data is available for the current month\n",
    "        if month_data.empty:\n",
    "            print(f\"No data available for {symbol} - {year}-{month:02d}.\")\n",
    "            break\n",
    "\n",
    "    # Save combined data to a CSV file\n",
    "    filename = f\"{symbol}_15min_candles_2022_2024.csv\"\n",
    "    all_data.to_csv(filename, index=False)\n",
    "    print(f\"Data for {symbol} saved to {filename} with {len(all_data)} records.\")\n"
   ]
  },
  {
   "cell_type": "code",
   "execution_count": 9,
   "metadata": {
    "colab": {
     "base_uri": "https://localhost:8080/"
    },
    "id": "U2YywX43x7Hk",
    "outputId": "394c8986-e86b-4fb3-f510-715232b4c724"
   },
   "outputs": [
    {
     "name": "stdout",
     "output_type": "stream",
     "text": [
      "Starting data fetch for AMZN...\n",
      "Fetching data for AMZN - 2022-01...\n",
      "No time series data found for AMZN - 2022-01.\n",
      "No data available for AMZN - 2022-02.\n",
      "Data for AMZN saved to AMZN_15min_candles_2022_2024.csv with 0 records.\n",
      "Finished fetching data for AMZN.\n"
     ]
    }
   ],
   "source": [
    "for stock in nasdaq_stocks:\n",
    "    fetch_stock_data(stock)\n",
    "    print(f\"Finished fetching data for {stock}.\")"
   ]
  },
  {
   "cell_type": "code",
   "execution_count": null,
   "metadata": {
    "id": "t4LV1Z1Cx9zP"
   },
   "outputs": [],
   "source": []
  }
 ],
 "metadata": {
  "colab": {
   "provenance": [],
   "toc_visible": true
  },
  "kernelspec": {
   "display_name": "Python 3 (ipykernel)",
   "language": "python",
   "name": "python3"
  },
  "language_info": {
   "codemirror_mode": {
    "name": "ipython",
    "version": 3
   },
   "file_extension": ".py",
   "mimetype": "text/x-python",
   "name": "python",
   "nbconvert_exporter": "python",
   "pygments_lexer": "ipython3",
   "version": "3.12.6"
  }
 },
 "nbformat": 4,
 "nbformat_minor": 4
}
