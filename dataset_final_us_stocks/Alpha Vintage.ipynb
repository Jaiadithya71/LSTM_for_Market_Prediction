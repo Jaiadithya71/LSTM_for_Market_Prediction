{
 "cells": [
  {
   "cell_type": "code",
   "execution_count": 56,
   "id": "fa455e2f-5b74-4da1-bb0e-77feeca62ac5",
   "metadata": {},
   "outputs": [],
   "source": [
    "import requests\n",
    "import pandas as pd\n",
    "from datetime import datetime, timedelta"
   ]
  },
  {
   "cell_type": "code",
   "execution_count": 71,
   "id": "736155a7-f3b7-4e9e-8db8-bda28143f294",
   "metadata": {},
   "outputs": [],
   "source": [
    "api_key = \"83LYCH21FSJ4UQ61\"\n",
    "\n",
    "# List of top 10 NASDAQ stocks\n",
    "nasdaq_stocks = [\"AAPL\", \"MSFT\", \"AMZN\", \"GOOGL\", \"META\", \"TSLA\", \"NVDA\", \"PYPL\", \"INTC\"]\n",
    "\n",
    "# Base URL for Alpha Vantage API\n",
    "base_url = \"https://www.alphavantage.co/query\""
   ]
  },
  {
   "cell_type": "code",
   "execution_count": 72,
   "id": "745f093a-2676-48c0-b0bb-cc887923052f",
   "metadata": {},
   "outputs": [],
   "source": [
    "def fetch_stock_data(symbol):\n",
    "    print(f\"Fetching data for {symbol}...\")\n",
    "\n",
    "    # Define API parameters\n",
    "    params = {\n",
    "        \"function\": \"TIME_SERIES_INTRADAY\",\n",
    "        \"symbol\": symbol,\n",
    "        \"interval\": \"30min\",\n",
    "        \"apikey\": api_key,\n",
    "        \"outputsize\": \"full\"  # Fetch full data (as much as possible)\n",
    "    }\n",
    "\n",
    "    # Send API request\n",
    "    response = requests.get(base_url, params=params)\n",
    "    # Handle API response\n",
    "    print(response.json())\n",
    "    \n",
    "    if response.status_code == 200:\n",
    "        data = response.json()\n",
    "        if \"Time Series (30min)\" in data:\n",
    "            # Parse time series data\n",
    "            time_series = data[\"Time Series (1min)\"]\n",
    "            df = pd.DataFrame.from_dict(time_series, orient=\"index\")\n",
    "            df.columns = [\"Open\", \"High\", \"Low\", \"Close\", \"Volume\"]\n",
    "            df.index = pd.to_datetime(df.index)\n",
    "            df.sort_index(inplace=True)\n",
    "\n",
    "            # Save to CSV\n",
    "            filename = f\"{symbol}_candles_30min.csv\"\n",
    "            df.to_csv(filename)\n",
    "            print(f\"Data for {symbol} saved to {filename}.\")\n",
    "        else:\n",
    "            print(f\"Error: No time series data found for {symbol}.\")\n",
    "    else:\n",
    "        print(f\"Failed to fetch data for {symbol}. HTTP Status Code: {response.status_code}\")\n"
   ]
  },
  {
   "cell_type": "code",
   "execution_count": 73,
   "id": "45b00aa9-c904-4c68-873b-342969c5c1a3",
   "metadata": {},
   "outputs": [
    {
     "name": "stdout",
     "output_type": "stream",
     "text": [
      "Fetching data for AAPL...\n",
      "{'Information': 'Thank you for using Alpha Vantage! Our standard API rate limit is 25 requests per day. Please subscribe to any of the premium plans at https://www.alphavantage.co/premium/ to instantly remove all daily rate limits.'}\n",
      "Error: No time series data found for AAPL.\n",
      "Fetching data for MSFT...\n",
      "{'Information': 'Thank you for using Alpha Vantage! Our standard API rate limit is 25 requests per day. Please subscribe to any of the premium plans at https://www.alphavantage.co/premium/ to instantly remove all daily rate limits.'}\n",
      "Error: No time series data found for MSFT.\n"
     ]
    },
    {
     "ename": "KeyboardInterrupt",
     "evalue": "",
     "output_type": "error",
     "traceback": [
      "\u001b[1;31m---------------------------------------------------------------------------\u001b[0m",
      "\u001b[1;31mKeyboardInterrupt\u001b[0m                         Traceback (most recent call last)",
      "Cell \u001b[1;32mIn[73], line 4\u001b[0m\n\u001b[0;32m      2\u001b[0m \u001b[38;5;28;01mfor\u001b[39;00m stock \u001b[38;5;129;01min\u001b[39;00m nasdaq_stocks:\n\u001b[0;32m      3\u001b[0m     fetch_stock_data(stock)\n\u001b[1;32m----> 4\u001b[0m     \u001b[43mtime\u001b[49m\u001b[38;5;241;43m.\u001b[39;49m\u001b[43msleep\u001b[49m\u001b[43m(\u001b[49m\u001b[38;5;241;43m12\u001b[39;49m\u001b[43m)\u001b[49m  \u001b[38;5;66;03m# To handle API rate limits (5 requests per minute)\u001b[39;00m\n",
      "\u001b[1;31mKeyboardInterrupt\u001b[0m: "
     ]
    }
   ],
   "source": [
    "# Fetch data for all stocks\n",
    "for stock in nasdaq_stocks:\n",
    "    fetch_stock_data(stock)\n",
    "    time.sleep(12)  # To handle API rate limits (5 requests per minute)\n"
   ]
  },
  {
   "cell_type": "code",
   "execution_count": null,
   "id": "27cb6af3-c744-410e-9875-8e401eae639e",
   "metadata": {},
   "outputs": [],
   "source": []
  }
 ],
 "metadata": {
  "kernelspec": {
   "display_name": "Python 3 (ipykernel)",
   "language": "python",
   "name": "python3"
  },
  "language_info": {
   "codemirror_mode": {
    "name": "ipython",
    "version": 3
   },
   "file_extension": ".py",
   "mimetype": "text/x-python",
   "name": "python",
   "nbconvert_exporter": "python",
   "pygments_lexer": "ipython3",
   "version": "3.12.6"
  }
 },
 "nbformat": 4,
 "nbformat_minor": 5
}
